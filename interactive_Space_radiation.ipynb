{
 "cells": [
  {
   "cell_type": "markdown",
   "id": "a5ec2838-94fb-41e7-b7ae-c92f9e220be7",
   "metadata": {},
   "source": [
    "# <center>Impact of Space Radiation on Satellites</center>"
   ]
  },
  {
   "cell_type": "markdown",
   "id": "5765a4ad-b938-469b-9382-6cd188525352",
   "metadata": {},
   "source": [
    "This notebook contains a python script that open an external window (see below) divided in six panels. The user can defined the orbit's parameters in panel 4 an see it in the panel 1 as the impact of the trajectory on the received radiation per orbit in panel 2.\n",
    "The characteristics of the satellite, mainly its shielding (material and thickness) can be set by the user in panel 6. More details on how to use this App in the User_Manual.pdf"
   ]
  },
  {
   "cell_type": "markdown",
   "id": "12461c96-191a-418e-9df4-dc4b24b7a487",
   "metadata": {},
   "source": [
    "**<span style=\"color:red\">To close the window you need to restart the kernel (without running the cells).</span>**"
   ]
  },
  {
   "cell_type": "markdown",
   "id": "342a596a-f956-49e1-bb80-32cd8b8d0bad",
   "metadata": {},
   "source": [
    "<img src=\"./Screenshot_App.png\" alt=\"ScreenShot App\"/>"
   ]
  },
  {
   "cell_type": "markdown",
   "id": "2cb0f38c-cf60-4e75-92d5-2de47e0a9321",
   "metadata": {},
   "source": [
    "---\n",
    "\n",
    "---\n",
    "## DO NOT MODIFY ANYTHING BELOW (exception for developpers)\n"
   ]
  },
  {
   "cell_type": "code",
   "execution_count": 1,
   "id": "ec85cb07",
   "metadata": {},
   "outputs": [],
   "source": [
    "# Import required libraries\n",
    "import tkinter as tk\n",
    "from tkinter import ttk\n",
    "from mpl_toolkits.mplot3d import Axes3D\n",
    "import matplotlib.pyplot as plt\n",
    "from matplotlib.backends.backend_tkagg import FigureCanvasTkAgg\n",
    "import matplotlib.lines as Lines\n",
    "import numpy as np\n",
    "import scipy.integrate as integrate\n",
    "import math"
   ]
  },
  {
   "cell_type": "markdown",
   "id": "0601285e-7b0b-4418-9b85-05ec7725b649",
   "metadata": {},
   "source": [
    "---\n",
    "## Defining material properties"
   ]
  },
  {
   "cell_type": "code",
   "execution_count": 2,
   "id": "2f9c3fe1",
   "metadata": {
    "lines_to_next_cell": 1
   },
   "outputs": [],
   "source": [
    "# Make a ditionary containing the possible material for shielding and their relevant properties as the density, mu/rho factor, price and Stopping Power\n",
    "# New materials can be added in this dictionnary. NOTE : a new RadioButton should be added manually with the others material button (~ cell [64])\n",
    "material_params = {\n",
    "\"None\":{\n",
    "    \"rho\":0., # kg.m-3\n",
    "    \"muorho\":0.0, # m2/kg\n",
    "    \"price_perKg\":0.0,\n",
    "    \"StopPower_sol\":np.NaN,\n",
    "    \"StopPower_proton\":np.NaN,\n",
    "    \"StopPower_elec\":np.NaN\n",
    "    },\n",
    "\"Aluminium\":{\n",
    "    \"rho\":2700., # kg.m-3\n",
    "    \"muorho\":0.02, # m2/kg\n",
    "    \"price_perKg\":2.6, # Around 2600$/t from https://tradingeconomics.com/commodity/aluminum\n",
    "    \"StopPower_sol\":5.678, # https://physics.nist.gov/cgi-bin/Star/ap_table.pl (only protons of E = 100 MeV)\n",
    "    \"StopPower_proton\":33.76, # https://physics.nist.gov/cgi-bin/Star/ap_table.pl\n",
    "    \"StopPower_elec\":1.604 # https://physics.nist.gov/cgi-bin/Star/e_table.pl\n",
    "    },\n",
    "\"Polyethylene\":{\n",
    "    \"rho\":940., # kg.m-3\n",
    "    \"muorho\":0.08, # m2/kg\n",
    "    \"price_perKg\":8.3, # Around 8300$/t from https://tradingeconomics.com/commodity/polyethylene\n",
    "    \"StopPower_sol\":7.746, # https://physics.nist.gov/cgi-bin/Star/ap_table.pl (only protons of E = 100 MeV)\n",
    "    \"StopPower_proton\":49.26, # https://physics.nist.gov/cgi-bin/Star/ap_table.pl\n",
    "    \"StopPower_elec\":2.147 # https://physics.nist.gov/cgi-bin/Star/e_table.pl\n",
    "    },\n",
    "\"Composite\":{\n",
    "    \"rho\":1600., # kg.m-3\n",
    "    \"muorho\":0.05, #m2/kg\n",
    "    \"price_perKg\":885., # 6 1mx1mx1mm plates of carbon fiber cost ~1240$\n",
    "    \"StopPower_sol\":np.NaN,\n",
    "    \"StopPower_proton\":np.NaN,\n",
    "    \"StopPower_elec\":np.NaN\n",
    "    }\n",
    "}"
   ]
  },
  {
   "cell_type": "markdown",
   "id": "7213f42e-d691-43a4-8734-9be4e811a89e",
   "metadata": {},
   "source": [
    "---\n",
    "## Defining functions"
   ]
  },
  {
   "cell_type": "code",
   "execution_count": 3,
   "id": "ddae42f0",
   "metadata": {
    "lines_to_next_cell": 1
   },
   "outputs": [],
   "source": [
    "def torus(R, r):\n",
    "    \"\"\"\n",
    "    Function that define a Torus surface\n",
    "\n",
    "    Args:\n",
    "        R (float): radial position of the center of the Torus\n",
    "        r (float): radius of the Torus\n",
    "\n",
    "    Returns:\n",
    "        X (array): x-position defining the surface of the Torus\n",
    "        Y (array): y-position defining the surface of the Torus\n",
    "        Z (array): z-position defining the surface of the Torus\n",
    "    \n",
    "    \"\"\"\n",
    "    \n",
    "    phi = np.linspace(0, 2*np.pi, 100)  # Angle azimutal\n",
    "    theta = np.linspace(-np.pi/2, np.pi/2, 50)  # Angle polaire\n",
    "    phi, theta = np.meshgrid(phi, theta)\n",
    "    X = (R + r * np.cos(theta)) * np.cos(phi)\n",
    "    Y = (R + r * np.cos(theta)) * np.sin(phi)\n",
    "    Z = r * np.sin(theta)\n",
    "    return X, Y, Z"
   ]
  },
  {
   "cell_type": "code",
   "execution_count": 4,
   "id": "9f3f713f",
   "metadata": {
    "lines_to_next_cell": 1
   },
   "outputs": [],
   "source": [
    "def isInTorus(x, y, z, R_c, r_t):\n",
    "    \"\"\"\n",
    "    Function that check if a 3D position is inside a Torus\n",
    "\n",
    "    Args:\n",
    "        x (array): x-position\n",
    "        y (array): y-position\n",
    "        z (array): z-position \n",
    "        R_c (float): radial position of the center of the Torus\n",
    "        r_t (float): radius of the Torus\n",
    "\n",
    "    Returns:\n",
    "        in_torus (bool): is the position inside the Torus \n",
    "    \n",
    "    \"\"\"\n",
    "    \n",
    "    # radial distance from center\n",
    "    r_dist = np.sqrt(x**2 + y**2)  # Projection in the XY plane\n",
    "    \n",
    "    # Check condition inside Tore\n",
    "    in_torus = (np.abs(r_dist - R_c) <= r_t) and (np.abs(z) <= r_t)\n",
    "    \n",
    "    return in_torus"
   ]
  },
  {
   "cell_type": "code",
   "execution_count": 5,
   "id": "d596e4c8",
   "metadata": {
    "lines_to_next_cell": 1
   },
   "outputs": [],
   "source": [
    "def compute_time_in_van_allen():\n",
    "    \"\"\"\n",
    "    Function that compute the time passed during one orbit inside the Val Allen Belts\n",
    "\n",
    "    Args:\n",
    "\n",
    "    Returns:\n",
    "        time_inner (float): time passed in seconds during the orbit in the inner Va Allen belt\n",
    "        time_outer (float): time passed in seconds during the orbit in the outer Va Allen belt\n",
    "    \n",
    "    \"\"\"\n",
    "\n",
    "    # Get orbital parameters from the sliders\n",
    "    a = get_converted_slider_value(\"Semi-major axis\") * 1.e3  # Convert in meters\n",
    "    e = get_converted_slider_value(\"Eccentricity\")\n",
    "    mu = 3.986e14  # Earth's gravitational constant (m³/s²)\n",
    "\n",
    "    # Specific angular Momentum\n",
    "    h = np.sqrt(mu * a * (1 - e**2))\n",
    "    \n",
    "    \n",
    "    time_inner = 0\n",
    "    time_outer = 0\n",
    "\n",
    "    theta_values = np.linspace(0, 2 * np.pi, len(x))\n",
    "    for i in range(len(theta_values) - 1):\n",
    "        theta = theta_values[i]\n",
    "\n",
    "        # orbital radius at theta_value\n",
    "        r = (a * (1 - e**2)) / (1 + e * np.cos(theta))\n",
    "\n",
    "        # orbital velocity\n",
    "        v = np.sqrt(mu * (2/r - 1/a))\n",
    "\n",
    "        # time between two points (2nd kepler Law)\n",
    "        dt = (r**2 / h) * (theta_values[i+1] - theta_values[i])\n",
    "\n",
    "        # Check if the sattelite is in one Van Allen belt\n",
    "        if isInTorus(x[i], y[i], z[i], Rcenter_inner, Radius_inner):\n",
    "            time_inner += dt\n",
    "        elif isInTorus(x[i], y[i], z[i], Rcenter_outter, Radius_outter):\n",
    "            time_outer += dt\n",
    "\n",
    "    return time_inner, time_outer"
   ]
  },
  {
   "cell_type": "code",
   "execution_count": 6,
   "id": "068e1510",
   "metadata": {},
   "outputs": [],
   "source": [
    "def compute_fluence_van_allen(year):\n",
    "    \"\"\"\n",
    "    Compute fluence inside Van Allen Belts\n",
    "\n",
    "    Args:\n",
    "\n",
    "\n",
    "    Returns:\n",
    "        fluence_inner (float): Fluence in particles/cm²/s in the inner Van Allen Belt\n",
    "        fluence_outer (float): Fluence in particles/cm²/s in the outer Van Allen Belt\n",
    "    \"\"\"\n",
    "\n",
    "    # Physical constantes\n",
    "    c = 3.e10  # speed of light (cm/s)\n",
    "    m_p = 1.67e-24  # proton's mass (kg)\n",
    "    m_e = 9.11e-28  # electron's mass (kg)\n",
    "    MeV_to_J = 1.602e-16  # Conversion MeV -> erg\n",
    "\n",
    "    # Convert energy from MeV to Joules\n",
    "    E_inner_J = 10. * MeV_to_J\n",
    "    E_outer_J = 0.5 * MeV_to_J\n",
    "\n",
    "    # Relativistic speed of particles\n",
    "    v_inner = c * np.sqrt(1 - (m_p * c**2 / (E_inner_J + m_p * c**2))**2)  # Protons\n",
    "    v_outer = c * np.sqrt(1 - (m_e * c**2 / (E_outer_J + m_e * c**2))**2)  # Electrons\n",
    "    \n",
    "    rho_inner = 2.e5 # cm-3\n",
    "    rho_outter = 1.e6 # cm-3\n",
    "    \n",
    "    # Fluence = rho * v\n",
    "    fluence_inner = rho_inner * v_inner  # particles/cm²/s\n",
    "    fluence_outer = rho_outter * v_outer # particles/cm²/s\n",
    "\n",
    "    return fluence_inner, fluence_outer"
   ]
  },
  {
   "cell_type": "code",
   "execution_count": 7,
   "id": "4d65a79d",
   "metadata": {
    "lines_to_next_cell": 1
   },
   "outputs": [],
   "source": [
    "def update_basicgraphs(event=None):\n",
    "    \"\"\"\n",
    "    Function which update all the basic panels and text by calling the relevent update functions\n",
    "    This function is called when the mouse is moved inside the App window\n",
    "\n",
    "    Args:\n",
    "\n",
    "\n",
    "    Returns:\n",
    "\n",
    "    \"\"\"\n",
    "    \n",
    "    update_orbit()\n",
    "    update_solar_flux()\n",
    "    print_Period()\n",
    "    printTIDperOrbit()\n",
    "    printDDperOrbit()\n",
    "    printTotalMassCost()"
   ]
  },
  {
   "cell_type": "code",
   "execution_count": 8,
   "id": "5440c870",
   "metadata": {},
   "outputs": [],
   "source": [
    "def update_all(event=None):\n",
    "    \"\"\"\n",
    "    Function which update all the panels and text including the panel 3 which take some time to be computed\n",
    "    This function is called when the left clik of the mouse is released from a slider or after entering an entry\n",
    "\n",
    "    Args:\n",
    "\n",
    "\n",
    "    Returns:\n",
    "\n",
    "    \"\"\"\n",
    "    \n",
    "    update_basicgraphs()\n",
    "    update_tid_DD()"
   ]
  },
  {
   "cell_type": "code",
   "execution_count": 9,
   "id": "415762e9",
   "metadata": {},
   "outputs": [],
   "source": [
    "def plot_orbit(a=19300, e=0.25, i=45., Omega=90., omega=90.):\n",
    "    \"\"\"\n",
    "    Function which plot the orbit of the satellite, the Earth and the Val Allen Belts in the 3D plot in panel 1. \n",
    "\n",
    "    Args:\n",
    "        a (float): semi-major axis in km\n",
    "        e (float): eccentricity\n",
    "        i (float): inclination of the orbit in degree\n",
    "        Omega (float): longitude of the ascending node of the orbit in degree\n",
    "        omega (float): argument of periastron of the orbit in degree\n",
    "\n",
    "    Returns:\n",
    "        A nice plot !\n",
    "        \n",
    "    \"\"\"\n",
    "    \n",
    "    global x, y, z\n",
    "    ax_orbit.clear()\n",
    "    i_rad = np.radians(i)\n",
    "    Omega_rad = np.radians(Omega)\n",
    "    omega_rad = np.radians(omega)\n",
    "    # Example orbit (elliptical)\n",
    "    f = np.linspace(0, 2 * np.pi, 100)\n",
    "    r = a * (1 - e**2) / (1 + e * np.cos(f))\n",
    "    \n",
    "    # Cordinate in the orbital plane\n",
    "    x_prime = r * np.cos(f)\n",
    "    y_prime = r * np.sin(f)\n",
    "    z_prime = 0\n",
    "    \n",
    "    # Rotation by the argument of periastron (omega)\n",
    "    x_double_prime = x_prime * np.cos(omega_rad) - y_prime * np.sin(omega_rad)\n",
    "    y_double_prime = x_prime * np.sin(omega_rad) + y_prime * np.cos(omega_rad)\n",
    "    z_double_prime = z_prime\n",
    "    \n",
    "    # Rotation by inclination (i)\n",
    "    x_triple_prime = x_double_prime\n",
    "    y_triple_prime = y_double_prime * np.cos(i_rad)\n",
    "    z_triple_prime = y_double_prime * np.sin(i_rad)\n",
    "    \n",
    "    # Rotation by the longitude of the ascending node (Omega)\n",
    "    x = x_triple_prime * np.cos(Omega_rad) - y_triple_prime * np.sin(Omega_rad)\n",
    "    y = x_triple_prime * np.sin(Omega_rad) + y_triple_prime * np.cos(Omega_rad)\n",
    "    z = z_triple_prime\n",
    "    \n",
    "    ax_orbit.plot(x, y, z, label='Satellite Orbit')\n",
    "    coord_max = np.max([np.abs(x), np.abs(y), np.abs(z)])\n",
    "    ax_orbit.set_xlim(-coord_max, coord_max)\n",
    "    ax_orbit.set_ylim(-coord_max, coord_max)\n",
    "    ax_orbit.set_zlim(-coord_max, coord_max)\n",
    "    \n",
    "    # Parameters Van Allen Belts\n",
    "    global R_earth, Radius_inner, Rcenter_inner, Radius_outter, Rcenter_outter\n",
    "    R_earth = 6371.\n",
    "    \n",
    "    # Inner Belt\n",
    "    rinner_min = R_earth + 1000. #B.H. Mauk et al. 2012  #1.2*R_earth Ganushkina et al. 2011\n",
    "    rinner_max = R_earth + 6000.                         #3.*R_earth                          \n",
    "    Radius_inner = (rinner_max-rinner_min)/2.\n",
    "    Rcenter_inner = (rinner_max+rinner_min)/2.\n",
    "    \n",
    "    X_inner, Y_inner, Z_inner = torus(Rcenter_inner, Radius_inner)\n",
    "    ax_orbit.plot_surface(X_inner, Y_inner, Z_inner, color='red', alpha=0.6)\n",
    "    ax_orbit.scatter(1e18, 1e18, 1e18, color='red', alpha=0.6, lw=4, label='Inner Van Allen Belt')\n",
    "\n",
    "    # Outter belt\n",
    "    routter_min = R_earth + 15000. #B.H. Mauk et al. 2012 #3.*R_earth #Ganushkina et al. 2011\n",
    "    routter_max = R_earth + 25000.                        #7.*R_earth\n",
    "    Radius_outter = (routter_max-routter_min)/2.\n",
    "    Rcenter_outter = (routter_max+routter_min)/2.\n",
    "    \n",
    "    X_outter, Y_outter, Z_outter = torus(Rcenter_outter, Radius_outter)\n",
    "    ax_orbit.plot_surface(X_outter, Y_outter, Z_outter, color='green', alpha=0.3)\n",
    "    ax_orbit.scatter(1e18, 1e18, 1e18, color='green', alpha=0.3, lw=4, label='Outer Van Allen Belt')\n",
    "    \n",
    "\n",
    "    thetae = np.linspace(0, 2*np.pi, 100) \n",
    "    phie = np.linspace(0, np.pi, 100)\n",
    "    thetae, phie = np.meshgrid(thetae, phie)\n",
    "\n",
    "    # Earth coordinate\n",
    "    x_earth = R_earth * np.cos(thetae) * np.sin(phie)\n",
    "    y_earth = R_earth * np.sin(thetae) * np.sin(phie)\n",
    "    z_earth = R_earth * np.cos(phie)\n",
    "    ax_orbit.plot_surface(x_earth, y_earth, z_earth, color='b', alpha=0.7)\n",
    "    \n",
    "    \n",
    "    # Highlight South Atlantic Anomaly\n",
    "    R_SSA = 5000.\n",
    "    x_ssa = R_SSA * np.cos(thetae) * np.sin(phie) + 4783.6\n",
    "    y_ssa = R_SSA * np.sin(thetae) * np.sin(phie) - 4014.7\n",
    "    z_ssa = R_SSA * np.cos(phie) - 3185.5\n",
    "    ax_orbit.plot_surface(x_ssa, y_ssa, z_ssa, color='purple', alpha=0.5)\n",
    "    ax_orbit.scatter(1e18, 1e18, 1e18, color='purple', label='SAA', s=20, alpha=0.5)\n",
    "    \n",
    "    ax_orbit.legend()\n",
    "    ax_orbit.set_xlabel('X (km)')\n",
    "    ax_orbit.set_ylabel('Y (km)')\n",
    "    ax_orbit.set_zlabel('Z (km)')\n",
    "    ax_orbit.set_title('3D Orbit Visualization', fontsize=16)"
   ]
  },
  {
   "cell_type": "code",
   "execution_count": 10,
   "id": "1a5eda0c",
   "metadata": {
    "lines_to_next_cell": 1
   },
   "outputs": [],
   "source": [
    "def update_orbit(event=None):\n",
    "    \"\"\"\n",
    "    Update the plot of the orbit from the parameters of the sliders\n",
    "\n",
    "    Args:\n",
    "        event (tkinter event): event that trigerred the function\n",
    "\n",
    "    Returns:\n",
    "        \n",
    "    \"\"\"\n",
    "\n",
    "    a = get_converted_slider_value(\"Semi-major axis\")\n",
    "    e = get_converted_slider_value(\"Eccentricity\")\n",
    "    i = get_converted_slider_value(\"Inclination\")\n",
    "    Omega = get_converted_slider_value(\"Longitude of ascending node\")\n",
    "    omega = get_converted_slider_value(\"Argument of periapsis\")\n",
    "    plot_orbit(a=a, e=e, i=i, Omega=Omega, omega=omega)\n",
    "    canvas_orbit.draw()"
   ]
  },
  {
   "cell_type": "code",
   "execution_count": 11,
   "id": "fb1e3eee",
   "metadata": {
    "lines_to_next_cell": 1
   },
   "outputs": [],
   "source": [
    "def get_converted_slider_value(param):\n",
    "    \"\"\"\n",
    "    Get converted value from the sliders\n",
    "\n",
    "    Args:\n",
    "        param (string): name of the parameter to get the converted value\n",
    "\n",
    "    Returns:\n",
    "        (float): converted value\n",
    "    \"\"\"\n",
    "    \n",
    "    if (param == \"Semi-major axis\"):\n",
    "        return 6800. + param_sliders[param][\"slider\"].get()/100.*5.e4\n",
    "    elif (param == \"Eccentricity\"):\n",
    "        if (param_sliders[param][\"slider\"].get()==100.):\n",
    "            return 0.9999\n",
    "        return param_sliders[param][\"slider\"].get()/100.\n",
    "    elif (param == \"Inclination\"):\n",
    "        return param_sliders[param][\"slider\"].get()*180./100.\n",
    "    elif (param == \"Longitude of ascending node\"):\n",
    "        return param_sliders[param][\"slider\"].get()*360./100.\n",
    "    elif (param == \"Argument of periapsis\"):\n",
    "        return param_sliders[param][\"slider\"].get()*360./100.\n",
    "    elif (param == \"Solar Activity Phase\"):\n",
    "        return param_sliders[param][\"slider\"].get()/100.*11."
   ]
  },
  {
   "cell_type": "code",
   "execution_count": 12,
   "id": "2976865a",
   "metadata": {
    "lines_to_next_cell": 1
   },
   "outputs": [],
   "source": [
    "def get_value_for_slider(param):\n",
    "    \"\"\"\n",
    "    Set the value for the sliders from the entry\n",
    "\n",
    "    Args:\n",
    "        param (string): name of the parameter to set the slider value\n",
    "\n",
    "    Returns:\n",
    "        (float): slider value\n",
    "    \"\"\"\n",
    "    \n",
    "    if (param == \"Semi-major axis\"):\n",
    "        return (float(param_sliders[param][\"entry\"].get())-6800.)/5.e4*100.\n",
    "    elif (param == \"Eccentricity\"):\n",
    "        if (param_sliders[param][\"entry\"].get()==1.):\n",
    "            return 99.99\n",
    "        return float(param_sliders[param][\"entry\"].get())*100.\n",
    "    elif (param == \"Inclination\"):\n",
    "        return float(param_sliders[param][\"entry\"].get())/180.*100.\n",
    "    elif (param == \"Longitude of ascending node\"):\n",
    "        return float(param_sliders[param][\"entry\"].get())/360.*100.\n",
    "    elif (param == \"Argument of periapsis\"):\n",
    "        return float(param_sliders[param][\"entry\"].get())/360.*100.\n",
    "    elif (param == \"Solar Activity Phase\"):\n",
    "        return float(param_sliders[param][\"entry\"].get())*100./11."
   ]
  },
  {
   "cell_type": "code",
   "execution_count": 13,
   "id": "7e502e0c",
   "metadata": {
    "lines_to_next_cell": 1
   },
   "outputs": [],
   "source": [
    "def print_Period(event=None):\n",
    "    \"\"\"\n",
    "    Update the orbital Period Label in Panel 4\n",
    "\n",
    "    Args:\n",
    "        event (tkinter event): event that trigerred the function\n",
    "\n",
    "    Returns:\n",
    "    \n",
    "    \"\"\"\n",
    "    \n",
    "    a = get_converted_slider_value(\"Semi-major axis\")\n",
    "    P_sec = 2.*np.pi*np.sqrt((a*1.e3)**3/(6.67430e-11*5.972e24))\n",
    "    P_min = P_sec/60.\n",
    "    P_hour = P_min/60.\n",
    "    P_day = P_hour/24.\n",
    "    # Check value for an appropriate format (in minutes, hours or days) \n",
    "    if P_day>1.0:\n",
    "        Period_label.config(text=f\"Orbital period P = {P_day:.2f} day(s)\")\n",
    "    elif P_hour>1.0:\n",
    "        Period_label.config(text=f\"Orbital period P = {P_hour:.2f} hour(s)\")\n",
    "    elif P_min>1.0:\n",
    "        Period_label.config(text=f\"Orbital period P = {P_min:.2f} minute(s)\")\n",
    "    else:\n",
    "        Period_label.config(text=f\"Orbital period P = {P_sec:.2f} second(s)\")"
   ]
  },
  {
   "cell_type": "code",
   "execution_count": 14,
   "id": "30fb1c19-4f8e-4148-9dd5-a3a86e6375b9",
   "metadata": {},
   "outputs": [],
   "source": [
    "def plot_solar_flux(x=2.75):\n",
    "    \"\"\"\n",
    "    Plot the solar Flux in function of time along one Period of Activity (11 years)\n",
    "\n",
    "    Args:\n",
    "        x (float): phase of the sun activity in year\n",
    "\n",
    "    Returns:\n",
    "        Another nice plot\n",
    "    \"\"\"\n",
    "    \n",
    "    ax_solar_flux.clear()\n",
    "    years = np.linspace(0, 11, 500)\n",
    "    solar_flux = 1361. + 1. * np.sin(2 * np.pi / 11 * (years-5.5/2.))\n",
    "    ax_solar_flux.plot(years, solar_flux, label='Solar Flux')\n",
    "    ax_solar_flux.set_xlabel('Solar Cycle (years)', fontsize=14)\n",
    "    ax_solar_flux.set_ylabel(r'Solar Irradiance ($W/m^2$)', fontsize=14)\n",
    "    ax_solar_flux.set_title('Solar Flux vs. Solar Cycle', fontsize=16)\n",
    "    ax_solar_flux.legend()\n",
    "    ax_solar_flux.set_xlim(-0.1, 11.1)\n",
    "    ax_solar_flux.set_ylim(1359.5, 1362.5)\n",
    "    ax_solar_flux.vlines(x, 1000, 2000, color=\"black\")\n",
    "    ax_solar_flux.scatter(x, 1361. + 1. * np.sin(2 * np.pi / 11 * (x-5.5/2.)), color=\"black\")\n",
    "    global current_solar_flux\n",
    "    current_solar_flux = 1361. + 1. * np.sin(2 * np.pi / 11 * (x-5.5/2.))"
   ]
  },
  {
   "cell_type": "code",
   "execution_count": 15,
   "id": "c8222857-7d83-49b0-93b6-77e64d218f7e",
   "metadata": {},
   "outputs": [],
   "source": [
    "def update_solar_flux(event=None):\n",
    "    \"\"\"\n",
    "    Update the sun activity phase plot and call the update of the radiation per orbit\n",
    "\n",
    "    Args:\n",
    "        event (tkinter event): event that trigerred the function\n",
    "\n",
    "    Returns:\n",
    "        \n",
    "    \"\"\"\n",
    "    \n",
    "    x = get_converted_slider_value(\"Solar Activity Phase\")\n",
    "    plot_solar_flux(x=x)\n",
    "    canvas_solar_flux.draw()\n",
    "    update_radiation()"
   ]
  },
  {
   "cell_type": "code",
   "execution_count": 16,
   "id": "ae1b77e3-692a-477f-bfe7-e509ef11f92b",
   "metadata": {},
   "outputs": [],
   "source": [
    "def compute_radiation(year=None):\n",
    "    \"\"\"\n",
    "    Compute the radiation received and absorbed by the satellite (without shielding) along its orbit\n",
    "    The radiation is composed of the solar radiation which is constant along the orbit and the radiation from the Van Allen Belts.\n",
    "    The amount of radiation from the Van allen Belts depends on the orbital radius.\n",
    "\n",
    "    Args:\n",
    "        year (float): phase of the sun activity in year\n",
    "\n",
    "    Returns:\n",
    "        phase (array): phase of the orbit in units of the orbital period\n",
    "        radiation (array): amount of radiation absorbed by the satellites along its orbit in mGrays/hours\n",
    "    \"\"\"\n",
    "    \n",
    "    r = np.sqrt(np.power(x,2.)+np.power(y,2.)+np.power(z,2.))\n",
    "    phase = np.linspace(0., 1., len(r))\n",
    "    if (year==None):\n",
    "        year = get_converted_slider_value(\"Solar Activity Phase\")\n",
    "    coef_ionising = 1.e-6 # 5.5e-6+4.5e-6*np.sin(2 * np.pi / 11 * (year-5.5/2.))\n",
    "    muorho = 0.041 #Typical value from materials forming the satellite (without shielding)\n",
    "    \n",
    "    radiation=np.ones(len(r))\n",
    "    radiation *= coef_ionising*current_solar_flux*3600.*muorho*1000. \n",
    "    for i in range(len(r)):\n",
    "        xx = x[i]\n",
    "        yy = y[i]\n",
    "        zz = z[i]\n",
    "        rr = np.sqrt(xx**2+yy**2+zz**2)\n",
    "        if (isInTorus(xx, yy, zz, Rcenter_inner, Radius_inner) or isInTorus(xx, yy, zz, Rcenter_outter, Radius_outter)):\n",
    "            radiation[i] += 60*np.power(rr/25000.,2.)\n",
    "        else:\n",
    "            radiation[i] += 0.\n",
    "    return phase, radiation"
   ]
  },
  {
   "cell_type": "code",
   "execution_count": 17,
   "id": "fbfb8d68-a676-463a-a437-7c208aca9986",
   "metadata": {},
   "outputs": [],
   "source": [
    "def plot_radiation():\n",
    "    \"\"\"\n",
    "    Plot the radiation absorbed by the satellite (without shieding) in function of the orbital phase\n",
    "\n",
    "    Args:\n",
    "\n",
    "\n",
    "    Returns:\n",
    "\n",
    "\n",
    "    \"\"\"\n",
    "    ax_radiation.clear()\n",
    "    phase, radiation = compute_radiation()\n",
    "    ax_radiation.plot(phase, radiation)\n",
    "    ax_radiation.set_xlabel('Orbital Phase (t/P)')\n",
    "    ax_radiation.set_ylabel('Radiation (mGrays/hour)')\n",
    "    ax_radiation.set_title('Radiation vs. Orbital Phase')"
   ]
  },
  {
   "cell_type": "code",
   "execution_count": 18,
   "id": "ea048e55-cf09-4cf6-b6eb-e01f9f405294",
   "metadata": {},
   "outputs": [],
   "source": [
    "def update_radiation(event=None):\n",
    "    \"\"\"\n",
    "    Update the radiation versus orbital phase plot\n",
    "\n",
    "    Args:\n",
    "        event (tkinter event): event that trigerred the function\n",
    "\n",
    "    Returns:\n",
    "        \n",
    "    \"\"\"\n",
    "    \n",
    "    plot_radiation()\n",
    "    canvas_radiation.draw()"
   ]
  },
  {
   "cell_type": "code",
   "execution_count": 19,
   "id": "51947ac2-55c5-4493-8e85-0a6189217f91",
   "metadata": {},
   "outputs": [],
   "source": [
    "def update_material():\n",
    "    \"\"\"\n",
    "    Update all when a shielding material is selected \n",
    "\n",
    "    Args:\n",
    "        \n",
    "\n",
    "    Returns:\n",
    "        \n",
    "    \"\"\"\n",
    "    \n",
    "    update_all()"
   ]
  },
  {
   "cell_type": "code",
   "execution_count": 20,
   "id": "1a27ea38-5dfd-4aa6-89ce-e803932e25f1",
   "metadata": {},
   "outputs": [],
   "source": [
    "def coefficient_shielding_tid():\n",
    "    \"\"\"\n",
    "    Compute the attenuation factor coefficient for TID using materials parameters\n",
    "\n",
    "    Args:\n",
    "        \n",
    "\n",
    "    Returns:\n",
    "        attenuation_factor (float): factor that reduce the amount of absorbed TID by the satellite thanks to shielding\n",
    "    \"\"\"\n",
    "    \n",
    "    rho = material_params[selected_material.get()][\"rho\"]\n",
    "    mu_rho = material_params[selected_material.get()][\"muorho\"]\n",
    "    \n",
    "    thickness = param_sliders[\"Shielding thickness\"][\"slider\"].get()/10. # get value in mm\n",
    "    d = thickness / 1000. # convert into meters\n",
    "    attenuation_factor = np.exp(-mu_rho * rho * d**0.5) # empirical from measurement shown in ref Introduction_To_Radiation_Shielding.pdf\n",
    "    return attenuation_factor"
   ]
  },
  {
   "cell_type": "code",
   "execution_count": 21,
   "id": "e2c128e2-db0d-4cb6-a646-3f1d9948c6b3",
   "metadata": {},
   "outputs": [],
   "source": [
    "def coefficients_shielding_DD():\n",
    "    \"\"\"\n",
    "    Compute the attenuation factor coefficient for DD using materials parameters\n",
    "    For more details on the assumptions taken, see User_Manual.pdf\n",
    "\n",
    "    Args:\n",
    "        \n",
    "\n",
    "    Returns:\n",
    "        attenuation_factor (array[3]): factor that reduce the amount of DD for the satellite thanks to shielding\n",
    "    \"\"\"\n",
    "    \n",
    "    E_elec = 0.5 # MeV\n",
    "    E_proton = 10. #MeV\n",
    "    E_solar = 100. # MeV\n",
    "\n",
    "    StopPower_sol = material_params[selected_material.get()][\"StopPower_sol\"]\n",
    "    StopPower_proton = material_params[selected_material.get()][\"StopPower_proton\"]\n",
    "    StopPower_elec = material_params[selected_material.get()][\"StopPower_elec\"]\n",
    "    \n",
    "    lambda_ = np.inf*np.ones(3) # array containing the lambda values for solar particles, protons in Van Allen inner belt and electrons in Van Allen outter belt (in mm)\n",
    "    rho = material_params[selected_material.get()][\"rho\"]/1000. # g/cm3\n",
    "    \n",
    "    lambda_[0] = E_solar/(StopPower_sol*rho)\n",
    "    lambda_[1] = E_proton/(StopPower_proton*rho)\n",
    "    lambda_[2] = E_elec/(StopPower_elec*rho)\n",
    "    \n",
    "    thickness = param_sliders[\"Shielding thickness\"][\"slider\"].get()/10. # conversion from slider value in mm\n",
    "    d = thickness / 10. # conversion in cm\n",
    "    \n",
    "    attenuation_factor = np.ones(3)\n",
    "    for ii in range(3):\n",
    "        if (d<lambda_[ii]):\n",
    "            attenuation_factor[ii] = np.exp(-d/lambda_[ii])\n",
    "        else:\n",
    "            attenuation_factor[ii] = np.exp(-1)*(d/lambda_[ii])**-2.19 # attenuation follow a power-law when thickness > lambda with PL index from fitting experimental curve \n",
    "                                                                   # from https://ntrs.nasa.gov/api/citations/20220007131/downloads/Carstens-20220525_LSIC-Presentation_RadiationBeltt.pdf \n",
    "    \n",
    "    if (attenuation_factor[0]!=attenuation_factor[0]): # Check if NaN\n",
    "        attenuation_factor[0] = 1.0\n",
    "    if (attenuation_factor[1]!=attenuation_factor[1]): # Check if NaN\n",
    "        attenuation_factor[1] = 1.0\n",
    "    if (attenuation_factor[2]!=attenuation_factor[2]): # Check if NaN\n",
    "        attenuation_factor[2] = 1.0\n",
    "    return attenuation_factor"
   ]
  },
  {
   "cell_type": "code",
   "execution_count": 22,
   "id": "ef47b229-98cf-430c-a9b5-5e412186f7c2",
   "metadata": {},
   "outputs": [],
   "source": [
    "def printTotalMassCost():\n",
    "    \"\"\"\n",
    "    Update the Total mass cost Label in Panel 6\n",
    "\n",
    "    Args:\n",
    "\n",
    "    Returns:\n",
    "    \n",
    "    \"\"\"\n",
    "    \n",
    "    rho = material_params[selected_material.get()][\"rho\"]\n",
    "    price_perKg = material_params[selected_material.get()][\"price_perKg\"]\n",
    "    \n",
    "    thickness = param_sliders[\"Shielding thickness\"][\"slider\"].get()/10. # get value in mm\n",
    "    d = thickness / 1000. # convert into meters\n",
    "    \n",
    "    mass_shielding = rho*1.*1.*d * 6. # density * volume of one face * 6. faces\n",
    "    TotalMass = 200. + mass_shielding\n",
    "    label_Satmass_shield.config(text=f\"Total mass (with shielding): {TotalMass:.2f} kg\")\n",
    "    \n",
    "    \n",
    "    extra_cost = mass_shielding * 10000. # average cost 10,000$/kg (average small, medium and large rocket prices for LEO, MEO, GEO)\n",
    "    if (extra_cost/1e6>1.):\n",
    "        extra_cost_mil = math.floor(extra_cost/1e6)\n",
    "        temp = extra_cost - extra_cost_mil*1e6\n",
    "        extra_cost_thds = math.floor(temp/1e3)\n",
    "        extra_cost_unit = extra_cost - extra_cost_mil*1e6 - extra_cost_thds*1e3\n",
    "        label_SatLaunchcost.config(text=f\"Launching Cost (+ shielding): $2,000,000 + ${extra_cost_mil:.0f},{extra_cost_thds:03.0f},{extra_cost_unit:03.0f}\")\n",
    "    else:\n",
    "        extra_cost_thds = math.floor(extra_cost/1e3)\n",
    "        extra_cost_unit = extra_cost - extra_cost_thds*1e3\n",
    "        label_SatLaunchcost.config(text=f\"Launching Cost (+ shielding): $2,000,000 + ${extra_cost_thds:3.0f},{extra_cost_unit:03.0f}\")\n",
    "    \n",
    "    cost_shielding = price_perKg*mass_shielding\n",
    "    label_SatShieldingcost.config(text=f\"Shielding Cost: ${cost_shielding:.0f}\")\n",
    "    \n",
    "    total_cost = 2.e6 + extra_cost + cost_shielding\n",
    "    total_cost_mil = math.floor(total_cost/1.e6)\n",
    "    total_cost_thds = math.floor((total_cost - total_cost_mil*1e6)/1e3)\n",
    "    total_cost_unit = total_cost - total_cost_mil*1e6 - total_cost_thds*1e3\n",
    "    label_SatTotalcost.config(text=f\"Total Cost: ${total_cost_mil:.0f},{total_cost_thds:03.0f},{total_cost_unit:03.0f}\")"
   ]
  },
  {
   "cell_type": "code",
   "execution_count": 23,
   "id": "4fc6df4d-504b-4adc-8efc-281112674f84",
   "metadata": {},
   "outputs": [],
   "source": [
    "def compute_DD(year=None):\n",
    "    \"\"\"\n",
    "    Computes the DD from the electrons, the protons and the solar particles (also protons but at a different energy)\n",
    "\n",
    "    Args:\n",
    "        year (float): time in years for the activity phase of the sun\n",
    "\n",
    "    Returns:\n",
    "        DD_solar (float): Displacement Damage from solar particles (protons @100MeV) without shielding\n",
    "        DD_protons (float): Displacement Damage from protons in inner Van Allen belt without shielding\n",
    "        DD_electrons (float): Displacement Damage from electrons in outer Van Allen belt without shielding\n",
    "        \n",
    "    \"\"\"\n",
    "    \n",
    "    a = get_converted_slider_value(\"Semi-major axis\")\n",
    "    Period_s = 2.*np.pi*np.sqrt((a*1.e3)**3/(6.67430e-11*5.972e24))\n",
    "    \n",
    "    if (year==None):\n",
    "        year = get_converted_slider_value(\"Solar Activity Phase\")\n",
    "    \n",
    "    t_inner, t_outter = compute_time_in_van_allen() # in seconds\n",
    "    \n",
    "    solar_particle_fluence_o100MeV = 8.24e1 *(1.1 + np.sin(2 * np.pi / 11 * (year-5.5/2.))) # Section 4.3 https://ntrs.nasa.gov/api/citations/20000021506/downloads/20000021506.pdf\n",
    "    fluence_innerBelt, fluence_outterBelt = compute_fluence_van_allen()\n",
    "    NIEL_protons = 5e-3  # NIEL for protons (MeV cm²/g)\n",
    "    NIEL_electrons = 1e-4  # NIEL for electrons (MeV cm²/g)\n",
    "    \n",
    "    DD_solar = solar_particle_fluence_o100MeV * Period_s * NIEL_protons\n",
    "    DD_protons = fluence_innerBelt * t_inner * NIEL_protons\n",
    "    DD_electrons = fluence_outterBelt * t_outter * NIEL_electrons\n",
    "    return DD_solar, DD_protons, DD_electrons"
   ]
  },
  {
   "cell_type": "code",
   "execution_count": 24,
   "id": "768ca17d-eade-4d6a-bbd5-b3a2c323ed51",
   "metadata": {},
   "outputs": [],
   "source": [
    "def printTIDperOrbit(year=None):\n",
    "    \"\"\"\n",
    "    Update the TID per orbit Labels in Panel 6\n",
    "\n",
    "    Args:\n",
    "        year (float): time in years for the activity phase of the sun \n",
    "\n",
    "    Returns:\n",
    "    \n",
    "    \"\"\"\n",
    "    \n",
    "    a = get_converted_slider_value(\"Semi-major axis\")\n",
    "    Period = 2.*np.pi*np.sqrt((a*1.e3)**3/(6.67430e-11*5.972e24))/3600.\n",
    "    phase, radiation = compute_radiation(year=year)\n",
    "    phase*=Period\n",
    "    TID_perOrbit = integrate.simpson(radiation, phase)/1.e3\n",
    "    \n",
    "    label_TIDperOrbit.config(text=f\"Total Ionizing Dose (TID) per Orbit: {TID_perOrbit:.2f} Grays\")\n",
    "    \n",
    "    coef_shielding_tid = coefficient_shielding_tid()\n",
    "    TID_perOrbit_protected = TID_perOrbit * coef_shielding_tid\n",
    "    label_TIDperOrbit_protected.config(text=f\"TID per Orbit after shielding: {TID_perOrbit_protected:.4f} Grays\")\n",
    "    \n",
    "    return"
   ]
  },
  {
   "cell_type": "code",
   "execution_count": 25,
   "id": "cb5e47dd-bfef-4106-bcdc-d83bc1be6711",
   "metadata": {},
   "outputs": [],
   "source": [
    "def printDDperOrbit(year=None):\n",
    "    \"\"\"\n",
    "    Update the DD per orbit Labels in Panel 6\n",
    "\n",
    "    Args:\n",
    "        year (float): time in years for the activity phase of the sun \n",
    "\n",
    "    Returns:\n",
    "    \n",
    "    \"\"\"\n",
    "    \n",
    "    coefs_shielding_DD = coefficients_shielding_DD()\n",
    "    \n",
    "    DD_solar, DD_protons, DD_electrons = compute_DD()\n",
    "    DD_tot = DD_solar + DD_protons + DD_electrons\n",
    "    DD_tot_protected = DD_solar * coefs_shielding_DD[0] + DD_protons * coefs_shielding_DD[1] + DD_electrons * coefs_shielding_DD[2]\n",
    "    \n",
    "    label_DDperOrbit.config(text=f\"Total Displacement Damage (DD): {DD_tot:.2e} MeV/g\")\n",
    "    \n",
    "    label_DDperOrbit_protected.config(text=f\"DD per orbit after shielding: {DD_tot_protected:.2e} MeV/g\")\n",
    "    \n",
    "    return    "
   ]
  },
  {
   "cell_type": "code",
   "execution_count": 26,
   "id": "637770a1-e1a6-4a6b-9b8d-17e724f756bb",
   "metadata": {},
   "outputs": [],
   "source": [
    "def integrateTID_DD():\n",
    "    \"\"\"\n",
    "    Integrate the TID and DD in function of time until it reach the limit\n",
    "    NOTE: Take some time to compute\n",
    "\n",
    "    Args:\n",
    "    \n",
    "\n",
    "    Returns:\n",
    "        time (array): time of flight array\n",
    "        TIDvsTime (array): evolution of the TID in function of time of flight in Gray\n",
    "        DDvsTime (array): evolution of the DD in function of time of flight in MeV/g\n",
    "    \n",
    "    \"\"\"\n",
    "\n",
    "    # Update the labels\n",
    "    printTIDperOrbit()\n",
    "    printDDperOrbit()\n",
    "\n",
    "    # Compute orbital period\n",
    "    a = get_converted_slider_value(\"Semi-major axis\")\n",
    "    Period_s = 2.*np.pi*np.sqrt((a*1.e3)**3/(6.67430e-11*5.972e24))\n",
    "    Period = Period_s/(3600.*24*365.2422)\n",
    "\n",
    "    # Get shielding coefficients\n",
    "    coef_shielding_tid = coefficient_shielding_tid()\n",
    "    coefs_shielding_DD = coefficients_shielding_DD()\n",
    "    \n",
    "    # Over-estimation of the number of orbit\n",
    "    phase, radiation = compute_radiation(year=0.)\n",
    "    TID_perOrbit_min = integrate.simpson(radiation, phase*Period_s/3600.)*coef_shielding_tid/1.e3\n",
    "    \n",
    "    DD_solar_min, DD_protons_min, DD_electrons_min = compute_DD(year=0.)\n",
    "    DD_perOrbit_min = DD_solar_min * coefs_shielding_DD[0] + DD_protons_min * coefs_shielding_DD[1] + DD_electrons_min * coefs_shielding_DD[2]\n",
    "    \n",
    "    nborbits = max(2,min(math.ceil(1000./TID_perOrbit_min), math.ceil(1.e12/DD_perOrbit_min))) # minimum number of orbit: 2  \n",
    "    time_max = nborbits*Period\n",
    "\n",
    "    # create arrays\n",
    "    ntimes = min(500, nborbits)\n",
    "    time=np.linspace(0., time_max, ntimes)\n",
    "    TIDvsTime=np.zeros(len(time))\n",
    "    DDvsTime=np.zeros(len(time))\n",
    "    nborbit_inStep = nborbits/len(time)\n",
    "    \n",
    "    \n",
    "    for ii in range(1,len(time)):\n",
    "        # Use a progress bar to inform the user of the computation\n",
    "        progress_var.set(float(ii/len(time)*100))\n",
    "        progress_bar.update_idletasks()\n",
    "        \n",
    "        # Compute TID over time\n",
    "        phase, radiation = compute_radiation(year=time[ii]+get_converted_slider_value(\"Solar Activity Phase\"))\n",
    "        D0 = integrate.simpson(radiation, phase*Period_s/3600.)\n",
    "        TIDvsTime[ii] = TIDvsTime[ii-1] + D0*coef_shielding_tid/1.e3*nborbit_inStep\n",
    "        \n",
    "        \n",
    "        # compute DD over time\n",
    "        DD_solar, DD_protons, DD_electrons = compute_DD(year=time[ii]+get_converted_slider_value(\"Solar Activity Phase\"))\n",
    "        DD_total = (DD_solar * coefs_shielding_DD[0] + DD_protons * coefs_shielding_DD[1] + DD_electrons * coefs_shielding_DD[2])*nborbit_inStep\n",
    "        DDvsTime[ii] = DDvsTime[ii-1] + DD_total\n",
    "        \n",
    "    return time, TIDvsTime, DDvsTime"
   ]
  },
  {
   "cell_type": "code",
   "execution_count": 27,
   "id": "c39ce4f0-af90-449a-977a-0c8bc6a3e5c0",
   "metadata": {},
   "outputs": [],
   "source": [
    "def plot_tid_DD():\n",
    "    \"\"\"\n",
    "    Plot the TID and DD in function of the time of flight in Panel 3\n",
    "\n",
    "    Args:\n",
    "\n",
    "\n",
    "    Returns:\n",
    "\n",
    "\n",
    "    \"\"\"\n",
    "    global time_prev, TIDvsTime_prev, DDvsTime_prev\n",
    "    ax_tid.clear()\n",
    "    time, TIDvsTime, DDvsTime = integrateTID_DD()\n",
    "    ax_tid.plot(time_prev, TIDvsTime_prev, label='TID prev', color='red', alpha=0.3)\n",
    "    ax_tid.plot(time, TIDvsTime, label='TID', color='red')\n",
    "    ax_tid.set_xlabel('Time (years)')\n",
    "    ax_tid.set_ylabel('Total Ionizing Dose (Grays)', color='red')\n",
    "    ax_tid.yaxis.label.set_color('red')\n",
    "    ax_tid.tick_params(axis='y', colors='red')\n",
    "    ax_tid.hlines(1000., -100., 1.5*time[-1], color='red', linestyle='--', label=\"TID limit\")\n",
    "    ax_tid.set_ylim(0.,1200.)\n",
    "    ax_tid.set_xlim(0.,1.1*time[-1])\n",
    "    \n",
    "    ax_dd.clear()\n",
    "    ax_dd.plot(time_prev, DDvsTime_prev, label='DD prev', color='blue', alpha=0.3)\n",
    "    ax_dd.plot(time, DDvsTime, label='DD', color='blue')\n",
    "    ax_dd.set_ylabel('Displacement Damage (MeV/g)', color='blue')\n",
    "    ax_dd.yaxis.label.set_color('blue')\n",
    "    ax_dd.tick_params(axis='y', colors='blue')\n",
    "    ax_dd.hlines(1.e11, -100., 1.5*time[-1], color='blue', linestyle='--', label=\"DD lower limit\")\n",
    "    ax_dd.hlines(1.e12, -100., 1.5*time[-1], color='blue', linestyle=':', label=\"DD upper limit\")\n",
    "    ax_dd.set_ylim(0.,1.15e12)\n",
    "    \n",
    "    ax_tid.set_title('TID & DD vs. Time')\n",
    "    ax_tid.legend(loc=\"upper left\")\n",
    "    ax_dd.legend(loc=\"center left\")\n",
    "    time_prev = time\n",
    "    TIDvsTime_prev = TIDvsTime\n",
    "    DDvsTime_prev = DDvsTime"
   ]
  },
  {
   "cell_type": "code",
   "execution_count": 28,
   "id": "3c8b9fc8-5e20-482a-b552-f34becefc6a7",
   "metadata": {},
   "outputs": [],
   "source": [
    "def update_tid_DD(event=None):\n",
    "    \"\"\"\n",
    "    Update the TID and DD versus time of flight panel\n",
    "\n",
    "    Args:\n",
    "        event (tkinter event): event that trigerred the function\n",
    "\n",
    "    Returns:\n",
    "        \n",
    "    \"\"\"\n",
    "    plot_tid_DD()\n",
    "    canvas_tid.draw()"
   ]
  },
  {
   "cell_type": "code",
   "execution_count": 29,
   "id": "2142db5a-9ff4-4fb2-9407-01cca3b7d120",
   "metadata": {},
   "outputs": [],
   "source": [
    "def initialize_entries():\n",
    "    \"\"\"\n",
    "    Initialise Entries with converted values from sliders at startup.\n",
    "    \n",
    "    Args:\n",
    "\n",
    "\n",
    "    Returns:\n",
    "\n",
    "    \n",
    "    \"\"\"\n",
    "    for param in param_sliders:\n",
    "        value = get_converted_slider_value(param)\n",
    "        if value is None:\n",
    "            value = param_sliders[param][\"slider\"].get()/10.\n",
    "        \n",
    "        param_sliders[param][\"entry\"].delete(0, tk.END)\n",
    "        param_sliders[param][\"entry\"].insert(0, f\"{value:.2f}\")"
   ]
  },
  {
   "cell_type": "markdown",
   "id": "682f5934-fb19-449f-a6bd-c6195abb0ee5",
   "metadata": {},
   "source": [
    "---\n",
    "\n",
    "## Initialize main application"
   ]
  },
  {
   "cell_type": "code",
   "execution_count": 30,
   "id": "c0c61e14",
   "metadata": {},
   "outputs": [
    {
     "data": {
      "text/plain": [
       "''"
      ]
     },
     "execution_count": 30,
     "metadata": {},
     "output_type": "execute_result"
    }
   ],
   "source": [
    "root = tk.Tk()\n",
    "root.title(\"Satellite Radiation and Orbital Parameters\")\n",
    "# Get screen resolution\n",
    "screen_width = root.winfo_screenwidth()\n",
    "screen_height = root.winfo_screenheight()\n",
    "\n",
    "# Define size of the window from the screen resolution\n",
    "window_width = int(screen_width * 0.8)\n",
    "window_height = int(screen_height * 0.8)\n",
    "\n",
    "# centering the window on screen\n",
    "position_x = (screen_width - window_width) // 2\n",
    "position_y = (screen_height - window_height) // 2\n",
    "\n",
    "# Apply window's size and position\n",
    "root.geometry(f\"{window_width}x{window_height}+{position_x}+{position_y}\")"
   ]
  },
  {
   "cell_type": "code",
   "execution_count": 31,
   "id": "d2d2cb00",
   "metadata": {},
   "outputs": [],
   "source": [
    "# Create main frame\n",
    "main_frame = tk.Frame(root)\n",
    "main_frame.pack(fill=tk.BOTH, expand=True)"
   ]
  },
  {
   "cell_type": "code",
   "execution_count": 32,
   "id": "6e27e9b5",
   "metadata": {},
   "outputs": [],
   "source": [
    "# Create panels (3 columns x 2 rows)\n",
    "frames = [[tk.Frame(main_frame, borderwidth=2, relief=\"groove\") for _ in range(3)] for _ in range(2)]\n",
    "for i, row in enumerate(frames):\n",
    "    for j, frame in enumerate(row):\n",
    "        frame.grid(row=i, column=j, sticky=\"nsew\", padx=5, pady=15)"
   ]
  },
  {
   "cell_type": "code",
   "execution_count": 33,
   "id": "a2560310",
   "metadata": {
    "lines_to_next_cell": 2
   },
   "outputs": [],
   "source": [
    "# Configure row and column weights for resizing\n",
    "for i in range(2):\n",
    "    main_frame.grid_rowconfigure(i, weight=1)\n",
    "for j in range(3):\n",
    "    main_frame.grid_columnconfigure(j, weight=1)"
   ]
  },
  {
   "cell_type": "code",
   "execution_count": 34,
   "id": "1744e2a2",
   "metadata": {},
   "outputs": [],
   "source": [
    "progress_var = tk.DoubleVar()\n",
    "progress_bar_frame = tk.Frame(root, borderwidth=1, relief=\"groove\")\n",
    "progress_bar_frame.pack(side=tk.BOTTOM, fill=tk.X, padx=5, pady=5)"
   ]
  },
  {
   "cell_type": "code",
   "execution_count": 35,
   "id": "6ae28474",
   "metadata": {},
   "outputs": [],
   "source": [
    "progress_bar = ttk.Progressbar(progress_bar_frame, variable=progress_var, maximum=100)\n",
    "progress_bar.pack(fill=tk.X, padx=5, pady=5)"
   ]
  },
  {
   "cell_type": "code",
   "execution_count": 36,
   "id": "459872ff",
   "metadata": {
    "lines_to_next_cell": 1
   },
   "outputs": [],
   "source": [
    "def on_closing():\n",
    "    root.quit()"
   ]
  },
  {
   "cell_type": "code",
   "execution_count": 37,
   "id": "04ab58cd",
   "metadata": {},
   "outputs": [
    {
     "data": {
      "text/plain": [
       "''"
      ]
     },
     "execution_count": 37,
     "metadata": {},
     "output_type": "execute_result"
    }
   ],
   "source": [
    "root.protocol(\"WM_DELETE_WINDOW\", on_closing)"
   ]
  },
  {
   "cell_type": "markdown",
   "id": "9128fc73-1410-4109-808c-dd073621ceac",
   "metadata": {},
   "source": [
    "---\n",
    "## Panel 1: 3D Orbit Visualization"
   ]
  },
  {
   "cell_type": "code",
   "execution_count": 38,
   "id": "d2fb661b",
   "metadata": {},
   "outputs": [
    {
     "data": {
      "image/png": "[encoded data removed]",
      "text/plain": [
       "<Figure size 640x480 with 1 Axes>"
      ]
     },
     "metadata": {},
     "output_type": "display_data"
    }
   ],
   "source": [
    "# Create Figure\n",
    "fig_orbit = plt.figure()\n",
    "ax_orbit = fig_orbit.add_subplot(111, projection='3d')\n",
    "ax_orbit.set_box_aspect([1.0, 1.0, 1.0])\n",
    "plot_orbit()"
   ]
  },
  {
   "cell_type": "code",
   "execution_count": 39,
   "id": "f85855b0",
   "metadata": {},
   "outputs": [],
   "source": [
    "# Insert the Figure in the Panel 1\n",
    "canvas_orbit = FigureCanvasTkAgg(fig_orbit, master=frames[0][0])\n",
    "canvas_orbit.get_tk_widget().pack(fill=tk.BOTH, expand=True)"
   ]
  },
  {
   "cell_type": "markdown",
   "id": "83c15a52-5e1f-4ee5-afa9-69523631a79b",
   "metadata": {},
   "source": [
    "---\n",
    "\n",
    "## Panel 4: Orbital Parameters"
   ]
  },
  {
   "cell_type": "code",
   "execution_count": 40,
   "id": "59ab5275",
   "metadata": {},
   "outputs": [],
   "source": [
    "parameters_frame = frames[1][0]\n",
    "param_label = tk.Label(parameters_frame, text=\"Orbital Parameters\", font=(\"Arial\", 16))\n",
    "param_label.pack(pady=10)"
   ]
  },
  {
   "cell_type": "code",
   "execution_count": 41,
   "id": "0dab9a6c",
   "metadata": {},
   "outputs": [],
   "source": [
    "# Orbital parameter sliders\n",
    "global param_sliders\n",
    "param_sliders = {}\n",
    "params = {\"Semi-major axis\":\"km\", \"Eccentricity\":\" \", \"Inclination\":\"°\", \"Longitude of ascending node\":\"°\", \"Argument of periapsis\":\"°\", \"Solar Activity Phase\":\"years\"}"
   ]
  },
  {
   "cell_type": "code",
   "execution_count": 42,
   "id": "272aa104",
   "metadata": {},
   "outputs": [],
   "source": [
    "for param, unit in params.items():\n",
    "    frame = tk.Frame(parameters_frame)\n",
    "    frame.pack(fill=tk.X, padx=5, pady=10)\n",
    "    \n",
    "    # Sub frame for label and value \n",
    "    label_value_frame = tk.Frame(frame)\n",
    "    label_value_frame.pack(fill=tk.X)\n",
    "    \n",
    "    label = tk.Label(label_value_frame, text=f\"{param}:\", font=(\"Arial\", 14))\n",
    "    label.pack(side=tk.LEFT)\n",
    "    \n",
    "    # Entry field for parameter value\n",
    "    entry = tk.Entry(label_value_frame, font=(\"Arial\", 14), width=8, justify=\"right\")\n",
    "    entry.pack(side=tk.LEFT, padx=5)\n",
    "\n",
    "    # Label for units\n",
    "    unit_label = tk.Label(label_value_frame, text=unit, font=(\"Arial\", 14))\n",
    "    unit_label.pack(side=tk.LEFT)\n",
    "\n",
    "    # Slider for parameter\n",
    "    slider = ttk.Scale(frame, from_=0, to=100, orient=tk.HORIZONTAL, length=300)\n",
    "    slider.pack(fill=tk.X, padx=5, pady=5)\n",
    "    slider.set(25)\n",
    "\n",
    "\n",
    "    # Function to synchronize slider to entry\n",
    "    def sync_slider_to_entry(event=None, param=param):\n",
    "        \"\"\"Update the entry when the slider is moved.\"\"\"\n",
    "        value = get_converted_slider_value(param)\n",
    "        param_sliders[param][\"entry\"].delete(0, tk.END)\n",
    "        param_sliders[param][\"entry\"].insert(0, f\"{value:.2f}\")\n",
    "        update_basicgraphs()\n",
    "\n",
    "    # Function to synchronize entry to slider\n",
    "    def sync_entry_to_slider(event=None, param=param):\n",
    "        \"\"\"Update the slider when a new value is entered.\"\"\"\n",
    "        try:\n",
    "            value = get_value_for_slider(param)\n",
    "            param_sliders[param][\"slider\"].set(value)\n",
    "        except ValueError:\n",
    "            # If input is invalid, reset entry to current slider value\n",
    "            current_value = get_converted_slider_value(param)\n",
    "            param_sliders[param][\"entry\"].delete(0, tk.END)\n",
    "            param_sliders[param][\"entry\"].insert(0, f\"{current_value:.2f}\")\n",
    "        update_basicgraphs()\n",
    "    \n",
    "    # Bind events\n",
    "    slider.bind(\"<B1-Motion>\", sync_slider_to_entry)\n",
    "    slider.bind(\"<ButtonRelease-1>\", update_all)\n",
    "    entry.bind(\"<Return>\", sync_entry_to_slider)\n",
    "\n",
    "    # Initialize the entry with the slider's starting value\n",
    "    entry.insert(0, f\"{slider.get():.2f}\")\n",
    "\n",
    "    # Add the slider and entry to the dictionary\n",
    "    param_sliders[param] = {\"slider\": slider, \"entry\": entry}"
   ]
  },
  {
   "cell_type": "code",
   "execution_count": 43,
   "id": "758cc1cb",
   "metadata": {},
   "outputs": [],
   "source": [
    "Period_label = tk.Label(parameters_frame, text=f\"Orbital period P: NaN day(s)\", font=(\"Arial\", 14), fg=\"black\")\n",
    "Period_label.pack(pady=10)\n",
    "\n",
    "print_Period()"
   ]
  },
  {
   "cell_type": "markdown",
   "id": "75a04bfe-45d5-4a51-b23c-6f9fdf3e5b50",
   "metadata": {},
   "source": [
    "---\n",
    "## Panel 5: Solar Flux vs. Solar Cycle"
   ]
  },
  {
   "cell_type": "code",
   "execution_count": 44,
   "id": "a5ac70c7",
   "metadata": {},
   "outputs": [
    {
     "data": {
      "image/png": "[encoded data removed]",
      "text/plain": [
       "<Figure size 640x480 with 1 Axes>"
      ]
     },
     "metadata": {},
     "output_type": "display_data"
    }
   ],
   "source": [
    "fig_solar_flux = plt.figure()\n",
    "ax_solar_flux = fig_solar_flux.add_subplot(111)\n",
    "plot_solar_flux()"
   ]
  },
  {
   "cell_type": "code",
   "execution_count": 45,
   "id": "d11ee042",
   "metadata": {},
   "outputs": [],
   "source": [
    "canvas_solar_flux = FigureCanvasTkAgg(fig_solar_flux, master=frames[1][1])\n",
    "canvas_solar_flux.get_tk_widget().pack(fill=tk.BOTH, expand=True)"
   ]
  },
  {
   "cell_type": "markdown",
   "id": "75e9907d-b542-4efb-8425-a352c5ea0ae1",
   "metadata": {},
   "source": [
    "---\n",
    "\n",
    "## Panel 3: Radiation vs. Orbital Phase"
   ]
  },
  {
   "cell_type": "code",
   "execution_count": 46,
   "id": "9cd0ec8f",
   "metadata": {},
   "outputs": [
    {
     "data": {
      "image/png": "[encoded data removed]",
      "text/plain": [
       "<Figure size 640x480 with 1 Axes>"
      ]
     },
     "metadata": {},
     "output_type": "display_data"
    }
   ],
   "source": [
    "fig_radiation = plt.figure()\n",
    "ax_radiation = fig_radiation.add_subplot(111)\n",
    "plot_radiation()"
   ]
  },
  {
   "cell_type": "code",
   "execution_count": 47,
   "id": "efd81417",
   "metadata": {},
   "outputs": [],
   "source": [
    "canvas_radiation = FigureCanvasTkAgg(fig_radiation, master=frames[0][1])\n",
    "canvas_radiation.get_tk_widget().pack(fill=tk.BOTH, expand=True)"
   ]
  },
  {
   "cell_type": "markdown",
   "id": "1e6be25d-0883-4167-86c5-e00eb7810877",
   "metadata": {},
   "source": [
    "---\n",
    "\n",
    "## Panel 6: Satellite Properties"
   ]
  },
  {
   "cell_type": "code",
   "execution_count": 48,
   "id": "bccce5b2",
   "metadata": {},
   "outputs": [],
   "source": [
    "protection_frame = frames[1][2]\n",
    "protection_label = tk.Label(protection_frame, text=\"Satellite characteristics\", font=(\"Arial\", 18))\n",
    "protection_label.pack(pady=5)"
   ]
  },
  {
   "cell_type": "code",
   "execution_count": 49,
   "id": "e946b214",
   "metadata": {},
   "outputs": [],
   "source": [
    "label_Satsize_frame = tk.Frame(protection_frame)\n",
    "label_Satsize_frame.pack(fill=tk.X)\n",
    "\n",
    "label_Satsize = tk.Label(label_Satsize_frame, text=f\"Size: 1m x 1m x 1m\", font=(\"Arial\", 16), fg=\"black\")\n",
    "label_Satsize.pack(side=tk.LEFT)"
   ]
  },
  {
   "cell_type": "markdown",
   "id": "a97569ec-5a32-4dd8-a1a1-8e91049fc090",
   "metadata": {},
   "source": []
  },
  {
   "cell_type": "code",
   "execution_count": 50,
   "id": "989ca05f",
   "metadata": {},
   "outputs": [],
   "source": [
    "label_Satmass_frame = tk.Frame(protection_frame)\n",
    "label_Satmass_frame.pack(fill=tk.X)\n",
    "\n",
    "label_Satmass = tk.Label(label_Satmass_frame, text=f\"Mass (without shielding): 200kg\", font=(\"Arial\", 16), fg=\"black\")\n",
    "label_Satmass.pack(side=tk.LEFT)"
   ]
  },
  {
   "cell_type": "markdown",
   "id": "ad143150-d8cf-476e-a85d-6c9b052401f1",
   "metadata": {},
   "source": []
  },
  {
   "cell_type": "code",
   "execution_count": 51,
   "id": "a5d0692f",
   "metadata": {},
   "outputs": [],
   "source": [
    "label_TIDperOrbit_frame = tk.Frame(protection_frame)\n",
    "label_TIDperOrbit_frame.pack(fill=tk.X)\n",
    "\n",
    "label_TIDperOrbit = tk.Label(label_TIDperOrbit_frame, text=f\"Total Ionizing Dose (TID) per Orbit: NaN Grays\", font=(\"Arial\", 16), fg=\"black\")\n",
    "label_TIDperOrbit.pack(side=tk.LEFT)"
   ]
  },
  {
   "cell_type": "markdown",
   "id": "ef34c3a2-cbc2-406e-aa6a-9c8f2c4b70c8",
   "metadata": {},
   "source": []
  },
  {
   "cell_type": "code",
   "execution_count": 52,
   "id": "41c8847e",
   "metadata": {},
   "outputs": [],
   "source": [
    "label_DDperOrbit_frame = tk.Frame(protection_frame)\n",
    "label_DDperOrbit_frame.pack(fill=tk.X)\n",
    "\n",
    "label_DDperOrbit = tk.Label(label_DDperOrbit_frame, text=f\"Total Displacement Damage (DD): NaN MeV/g\", font=(\"Arial\", 16), fg=\"black\")\n",
    "label_DDperOrbit.pack(side=tk.LEFT)"
   ]
  },
  {
   "cell_type": "markdown",
   "id": "ab9edc47-379d-45a9-bb2b-17f4b12a7196",
   "metadata": {
    "lines_to_next_cell": 2
   },
   "source": []
  },
  {
   "cell_type": "code",
   "execution_count": 53,
   "id": "806482de",
   "metadata": {},
   "outputs": [],
   "source": [
    "# Sub frame for label and value \n",
    "label_value_frame_protection = tk.Frame(protection_frame)\n",
    "label_value_frame_protection.pack(fill=tk.X)\n",
    "\n",
    "label_protection = tk.Label(label_value_frame_protection, text=\"Shielding thickness:\", font=(\"Arial\", 16))\n",
    "label_protection.pack(side=tk.LEFT)"
   ]
  },
  {
   "cell_type": "code",
   "execution_count": 54,
   "id": "23496ed1",
   "metadata": {},
   "outputs": [],
   "source": [
    "# Entry field for parameter value\n",
    "entry_protection = tk.Entry(label_value_frame_protection, font=(\"Arial\", 16), width=8, justify=\"right\")\n",
    "entry_protection.pack(side=tk.LEFT, padx=5)"
   ]
  },
  {
   "cell_type": "code",
   "execution_count": 55,
   "id": "e9de1fad",
   "metadata": {},
   "outputs": [],
   "source": [
    "# Label for units\n",
    "unit_label = tk.Label(label_value_frame_protection, text=\"mm\", font=(\"Arial\", 16))\n",
    "unit_label.pack(side=tk.LEFT)"
   ]
  },
  {
   "cell_type": "code",
   "execution_count": 56,
   "id": "c5bd32f7",
   "metadata": {},
   "outputs": [],
   "source": [
    "# Slider for parameter\n",
    "slider_protection = ttk.Scale(protection_frame, from_=0, to=300, orient=tk.HORIZONTAL, length=300)\n",
    "slider_protection.pack(fill=tk.X, padx=5, pady=5)\n",
    "slider_protection.set(10)"
   ]
  },
  {
   "cell_type": "code",
   "execution_count": 57,
   "id": "e3f33280",
   "metadata": {
    "lines_to_next_cell": 1
   },
   "outputs": [],
   "source": [
    "# Function to synchronize slider to entry\n",
    "def sync_slider_to_entry_protection(event=None):\n",
    "    \"\"\"Update the entry when the slider is moved.\"\"\"\n",
    "    value = param_sliders[\"Shielding thickness\"][\"slider\"].get()/10.\n",
    "    param_sliders[\"Shielding thickness\"][\"entry\"].delete(0, tk.END)\n",
    "    param_sliders[\"Shielding thickness\"][\"entry\"].insert(0, f\"{value:.2f}\")"
   ]
  },
  {
   "cell_type": "code",
   "execution_count": 58,
   "id": "0f5e8327",
   "metadata": {},
   "outputs": [],
   "source": [
    "# Function to synchronize entry to slider\n",
    "def sync_entry_to_slider_protection(event=None):\n",
    "    \"\"\"Update the slider when a new value is entered.\"\"\"\n",
    "    try:\n",
    "        value = float(param_sliders[\"Shielding thickness\"][\"entry\"].get())*10.\n",
    "        param_sliders[\"Shielding thickness\"][\"slider\"].set(value)\n",
    "    except ValueError:\n",
    "        # If input is invalid, reset entry to current slider value\n",
    "        current_value = param_sliders[\"Shielding thickness\"][\"slider\"].get()/10.\n",
    "        param_sliders[\"Shielding thickness\"][\"entry\"].delete(0, tk.END)\n",
    "        param_sliders[\"Shielding thickness\"][\"entry\"].insert(0, f\"{current_value:.2f}\")\n",
    "    update_all()"
   ]
  },
  {
   "cell_type": "code",
   "execution_count": 59,
   "id": "ffd8ec58",
   "metadata": {},
   "outputs": [
    {
     "data": {
      "text/plain": [
       "'123401604753216sync_entry_to_slider_protection'"
      ]
     },
     "execution_count": 59,
     "metadata": {},
     "output_type": "execute_result"
    }
   ],
   "source": [
    "# Bind events\n",
    "slider_protection.bind(\"<B1-Motion>\", sync_slider_to_entry_protection)\n",
    "slider_protection.bind(\"<ButtonRelease-1>\", update_all)\n",
    "entry_protection.bind(\"<Return>\", sync_entry_to_slider_protection)"
   ]
  },
  {
   "cell_type": "code",
   "execution_count": 60,
   "id": "f83cc970",
   "metadata": {},
   "outputs": [],
   "source": [
    "# Initialize the entry with the slider's starting value\n",
    "entry_protection.insert(0, f\"{slider.get():.2f}\")"
   ]
  },
  {
   "cell_type": "code",
   "execution_count": 61,
   "id": "7b5b40bf",
   "metadata": {
    "lines_to_next_cell": 2
   },
   "outputs": [],
   "source": [
    "# Add the slider and entry to the dictionary\n",
    "param_sliders[\"Shielding thickness\"] = {\"slider\": slider_protection, \"entry\": entry_protection}"
   ]
  },
  {
   "cell_type": "markdown",
   "id": "9c43af90-3374-4ccb-b3f2-9163ec0add73",
   "metadata": {},
   "source": []
  },
  {
   "cell_type": "code",
   "execution_count": 62,
   "id": "a700650e",
   "metadata": {},
   "outputs": [],
   "source": [
    "label_TIDperOrbit_protected_frame = tk.Frame(protection_frame)\n",
    "label_TIDperOrbit_protected_frame.pack(fill=tk.X)\n",
    "\n",
    "label_TIDperOrbit_protected = tk.Label(label_TIDperOrbit_protected_frame, text=f\"TID per Orbit after shielding: NaN Grays\", font=(\"Arial\", 16), fg=\"black\")\n",
    "label_TIDperOrbit_protected.pack(side=tk.LEFT)"
   ]
  },
  {
   "cell_type": "markdown",
   "id": "6bdebdac-2896-467d-844f-f7378353bd3a",
   "metadata": {},
   "source": []
  },
  {
   "cell_type": "code",
   "execution_count": 63,
   "id": "351aa87a",
   "metadata": {},
   "outputs": [],
   "source": [
    "label_DDperOrbit_protected_frame = tk.Frame(protection_frame)\n",
    "label_DDperOrbit_protected_frame.pack(fill=tk.X)\n",
    "\n",
    "label_DDperOrbit_protected = tk.Label(label_DDperOrbit_protected_frame, text=f\"DD per orbit after shielding: NaN MeV/g\", font=(\"Arial\", 16), fg=\"black\")\n",
    "label_DDperOrbit_protected.pack(side=tk.LEFT)"
   ]
  },
  {
   "cell_type": "markdown",
   "id": "93b5cf13-1852-4681-9282-2976a1c164ff",
   "metadata": {},
   "source": []
  },
  {
   "cell_type": "code",
   "execution_count": 64,
   "id": "d0f62134",
   "metadata": {},
   "outputs": [],
   "source": [
    "# Material Frame\n",
    "global selected_material\n",
    "selected_material = tk.StringVar(value=\"None\")"
   ]
  },
  {
   "cell_type": "code",
   "execution_count": 65,
   "id": "ef9f25f0",
   "metadata": {},
   "outputs": [],
   "source": [
    "material_frame = tk.Frame(protection_frame)\n",
    "material_frame.pack(fill=tk.X)\n",
    "\n",
    "label_material = tk.Label(material_frame, text=\"Select material for shielding\", font=(\"Arial\", 16))\n",
    "label_material.pack(side=tk.LEFT)"
   ]
  },
  {
   "cell_type": "markdown",
   "id": "b6fda16a-8064-4fb6-89db-76b6b8119e64",
   "metadata": {},
   "source": []
  },
  {
   "cell_type": "code",
   "execution_count": 66,
   "id": "fa3c3bec",
   "metadata": {},
   "outputs": [],
   "source": [
    "# Conditional checkbox Aluminium\n",
    "protection_Aluminium = tk.Radiobutton(\n",
    "    material_frame, text=\"Aluminium shielding\", font=(\"Arial\", 16),\n",
    "    variable=selected_material, value=\"Aluminium\", command=update_material\n",
    ")\n",
    "protection_Aluminium.pack(anchor=\"w\", padx=10)"
   ]
  },
  {
   "cell_type": "code",
   "execution_count": 67,
   "id": "cef8c171-5ef9-4bbb-8074-3281a7d1e46f",
   "metadata": {},
   "outputs": [],
   "source": [
    "# Conditional checkbox Polyethylene\n",
    "protection_polyethylene = tk.Radiobutton(\n",
    "    material_frame, text=\"Polyethylene shielding\", font=(\"Arial\", 16),\n",
    "    variable=selected_material, value=\"Polyethylene\", command=update_material\n",
    ")\n",
    "protection_polyethylene.pack(anchor=\"w\", padx=10)"
   ]
  },
  {
   "cell_type": "code",
   "execution_count": 68,
   "id": "7eaafe21",
   "metadata": {},
   "outputs": [],
   "source": [
    "# Conditional checkbox Composite\n",
    "protection_composite = tk.Radiobutton(\n",
    "    material_frame, text=\"Composite shielding\", font=(\"Arial\", 16),\n",
    "    variable=selected_material, value=\"Composite\", command=update_material\n",
    ")\n",
    "protection_composite.pack(anchor=\"w\", padx=10)"
   ]
  },
  {
   "cell_type": "markdown",
   "id": "5ffe0834-0bc2-4586-86e8-f0738c44418d",
   "metadata": {},
   "source": []
  },
  {
   "cell_type": "code",
   "execution_count": 69,
   "id": "b25beb50",
   "metadata": {},
   "outputs": [],
   "source": [
    "label_Satmass_shield_frame = tk.Frame(protection_frame)\n",
    "label_Satmass_shield_frame.pack(fill=tk.X)\n",
    "\n",
    "label_Satmass_shield = tk.Label(label_Satmass_shield_frame, text=f\"Total mass (with shielding): 200 kg\", font=(\"Arial\", 16), fg=\"black\")\n",
    "label_Satmass_shield.pack(side=tk.LEFT)"
   ]
  },
  {
   "cell_type": "markdown",
   "id": "9ab721c8-5ded-43d9-9daf-652c0db48b60",
   "metadata": {},
   "source": []
  },
  {
   "cell_type": "code",
   "execution_count": 70,
   "id": "6442c7c9",
   "metadata": {},
   "outputs": [],
   "source": [
    "label_SatLaunchcost_frame = tk.Frame(protection_frame)\n",
    "label_SatLaunchcost_frame.pack(fill=tk.X)\n",
    "\n",
    "label_SatLaunchcost = tk.Label(label_SatLaunchcost_frame, text=f\"Launching Cost (+ shielding): $2,000,000 + $0\", font=(\"Arial\", 16), fg=\"black\")\n",
    "label_SatLaunchcost.pack(side=tk.LEFT)"
   ]
  },
  {
   "cell_type": "markdown",
   "id": "82a79da5-744a-4372-a038-9b9e17c274eb",
   "metadata": {},
   "source": []
  },
  {
   "cell_type": "code",
   "execution_count": 71,
   "id": "d931256b",
   "metadata": {
    "lines_to_next_cell": 0
   },
   "outputs": [],
   "source": [
    "label_SatShieldingcost_frame = tk.Frame(protection_frame)\n",
    "label_SatShieldingcost_frame.pack(fill=tk.X)\n",
    "\n",
    "label_SatShieldingcost = tk.Label(label_SatShieldingcost_frame, text=f\"Shielding Cost: $0\", font=(\"Arial\", 16), fg=\"black\")\n",
    "label_SatShieldingcost.pack(side=tk.LEFT)"
   ]
  },
  {
   "cell_type": "markdown",
   "id": "1f735440-cee9-4d87-96ab-6662a1c00fcd",
   "metadata": {
    "lines_to_next_cell": 2
   },
   "source": []
  },
  {
   "cell_type": "code",
   "execution_count": 72,
   "id": "1264e231",
   "metadata": {},
   "outputs": [],
   "source": [
    "separator = ttk.Separator(protection_frame, orient=\"horizontal\")\n",
    "separator.pack(fill=\"x\", padx=10, pady=5)"
   ]
  },
  {
   "cell_type": "code",
   "execution_count": 73,
   "id": "62a3530d",
   "metadata": {},
   "outputs": [],
   "source": [
    "label_SatTotalcost_frame = tk.Frame(protection_frame)\n",
    "label_SatTotalcost_frame.pack(fill=tk.X)\n",
    "\n",
    "label_SatTotalcost = tk.Label(label_SatTotalcost_frame, text=f\"Total Cost: $2,000,000\", font=(\"Arial\", 18), fg=\"red\")\n",
    "label_SatTotalcost.pack(side=tk.LEFT)"
   ]
  },
  {
   "cell_type": "markdown",
   "id": "667bbb1a-eb38-4555-9622-9fe0bcbb621c",
   "metadata": {},
   "source": [
    "---\n",
    "\n",
    "## Panel 5: TID & DD vs. Time"
   ]
  },
  {
   "cell_type": "code",
   "execution_count": 74,
   "id": "c3bc345a",
   "metadata": {},
   "outputs": [
    {
     "data": {
      "image/png": "[encoded data removed]",
      "text/plain": [
       "<Figure size 640x480 with 2 Axes>"
      ]
     },
     "metadata": {},
     "output_type": "display_data"
    }
   ],
   "source": [
    "fig_tid = plt.figure()\n",
    "ax_tid = fig_tid.add_subplot(111)\n",
    "ax_dd = ax_tid.twinx()\n",
    "\n",
    "global time_prev, TIDvsTime_prev, DDvsTime_prev\n",
    "# initiate previous curve for comparison\n",
    "time_prev = [0.]\n",
    "TIDvsTime_prev = [0.]\n",
    "DDvsTime_prev = [0.]\n",
    "\n",
    "plot_tid_DD()"
   ]
  },
  {
   "cell_type": "code",
   "execution_count": 75,
   "id": "b2a2d5e4",
   "metadata": {},
   "outputs": [],
   "source": [
    "canvas_tid = FigureCanvasTkAgg(fig_tid, master=frames[0][2])\n",
    "canvas_tid.get_tk_widget().pack(fill=tk.BOTH, expand=True)"
   ]
  },
  {
   "cell_type": "markdown",
   "id": "8da9b57a-3ea7-4b95-81d1-ebb1940b51b1",
   "metadata": {},
   "source": []
  },
  {
   "cell_type": "code",
   "execution_count": 76,
   "id": "ba2b0073",
   "metadata": {},
   "outputs": [],
   "source": [
    "# update the entry from slider values\n",
    "initialize_entries()"
   ]
  },
  {
   "cell_type": "code",
   "execution_count": null,
   "id": "a05a0ee4",
   "metadata": {},
   "outputs": [],
   "source": [
    "# Run the application\n",
    "root.mainloop()"
   ]
  }
 ],
 "metadata": {
  "jupytext": {
   "cell_metadata_filter": "-all",
   "formats": "ipynb,py:light"
  },
  "kernelspec": {
   "display_name": "Python 3 (ipykernel)",
   "language": "python",
   "name": "python3"
  },
  "language_info": {
   "codemirror_mode": {
    "name": "ipython",
    "version": 3
   },
   "file_extension": ".py",
   "mimetype": "text/x-python",
   "name": "python",
   "nbconvert_exporter": "python",
   "pygments_lexer": "ipython3",
   "version": "3.12.3"
  }
 },
 "nbformat": 4,
 "nbformat_minor": 5
}
